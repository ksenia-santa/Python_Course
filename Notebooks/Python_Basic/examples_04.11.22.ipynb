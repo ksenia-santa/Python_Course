{
 "cells": [
  {
   "cell_type": "code",
   "execution_count": 1,
   "id": "fcc3482b-0d15-40dc-a489-a6382b65da07",
   "metadata": {},
   "outputs": [],
   "source": [
    "text = \"\"\"\n",
    "1959 kaufte der österreichische Journalist Hans Dichand, der bis dahin Chefredakteur der Zeitung Kurier gewesen war, die Rechte am Titel Kronen Zeitung und ließ das Blatt ab 11. April 1959 als Neue Kronen Zeitung wiederauferstehen.\n",
    "\n",
    "Anfang der 1960er Jahre beabsichtigte Fritz Molden, die Krone zu kaufen. Die Creditanstalt gewährte Molden jedoch den zum Kauf notwendigen Kredit nicht, wie Hans Dichand in seinen Memoiren schreibt. Von 1967 bis 1971 erschien sie als Unabhängige Kronen-Zeitung, seither wieder als Neue Kronen Zeitung. Das Wort Unabhängig blieb als Zusatz unter dem Namen der Zeitung auf dem Titelblatt.\n",
    "\n",
    "Bis heute ist diese Finanzierung der Übernahme und des Betriebs der Zeitung nicht restlos geklärt. Der höchst einflussreiche SPÖ-Politiker Franz Olah, damaliger Vizepräsident des ÖGB, vermittelte den deutschen Geschäftsmann Ferdinand Karpik an Dichand, der sich mit 50 Prozent an der Zeitung beteiligen wollte. Zur Seite gestellt wurde Dichand von dem deutschen Anleger ein Werbefachmann namens Kurt Falk (später Herausgeber der reichweitenstärksten Wochenzeitung Österreichs, Die ganze Woche). Die Krone entwickelte sich bald zur meistgelesenen österreichischen Zeitung.\n",
    "\n",
    "Mitte der sechziger Jahre stellte der ÖGB plötzlich Besitzansprüche an die Krone. Der inzwischen gestürzte Franz Olah habe Bürgschaftsgelder des ÖGB zur Gründung der Krone verwendet und den deutschen Investor nur scheinhalber vorgeschoben. Die darauf folgende Hetzkampagne der Krone gegen die sozialdemokratische Partei SPÖ gilt als erste erfolgreiche Kampagne der Krone. Ein jahrelanger Rechtsstreit zwischen der Zeitung und dem Gewerkschaftsbund war die Folge. Der ÖGB wurde schließlich mit elf Millionen Schilling abgefunden, und Kurt Falk übernahm die 50 Prozent des Deutschen Karpik.\n",
    "\n",
    "In den achtziger Jahren stieg Kurt Falk nach einem längeren Streit mit Hans Dichand aus der Zeitung aus und verkaufte seine Anteile an die deutsche SPD-nahe WAZ-Verlagsgruppe. Ab 1989 übernahm Hans Mahr die Geschäftsführung der Krone. Er war dem Herausgeber Hans Dichand seit 1983 als Berater zur Seite gestanden.\n",
    "\n",
    "\"\"\""
   ]
  },
  {
   "cell_type": "code",
   "execution_count": 2,
   "id": "1166c4d2-3371-4c9e-8d27-2ee35f9eddb3",
   "metadata": {},
   "outputs": [
    {
     "data": {
      "text/plain": [
       "'\\n1959 kaufte der österreichische Journalist Hans Dichand, der bis dahin Chefredakteur der Zeitung Kurier gewesen war, die Rechte am Titel Kronen Zeitung und ließ das Blatt ab 11. April 1959 als Neue Kronen Zeitung wiederauferstehen.\\n\\nAnfang der 1960er Jahre beabsichtigte Fritz Molden, die Krone zu kaufen. Die Creditanstalt gewährte Molden jedoch den zum Kauf notwendigen Kredit nicht, wie Hans Dichand in seinen Memoiren schreibt. Von 1967 bis 1971 erschien sie als Unabhängige Kronen-Zeitung, seither wieder als Neue Kronen Zeitung. Das Wort Unabhängig blieb als Zusatz unter dem Namen der Zeitung auf dem Titelblatt.\\n\\nBis heute ist diese Finanzierung der Übernahme und des Betriebs der Zeitung nicht restlos geklärt. Der höchst einflussreiche SPÖ-Politiker Franz Olah, damaliger Vizepräsident des ÖGB, vermittelte den deutschen Geschäftsmann Ferdinand Karpik an Dichand, der sich mit 50 Prozent an der Zeitung beteiligen wollte. Zur Seite gestellt wurde Dichand von dem deutschen Anleger ein Werbefachmann namens Kurt Falk (später Herausgeber der reichweitenstärksten Wochenzeitung Österreichs, Die ganze Woche). Die Krone entwickelte sich bald zur meistgelesenen österreichischen Zeitung.\\n\\nMitte der sechziger Jahre stellte der ÖGB plötzlich Besitzansprüche an die Krone. Der inzwischen gestürzte Franz Olah habe Bürgschaftsgelder des ÖGB zur Gründung der Krone verwendet und den deutschen Investor nur scheinhalber vorgeschoben. Die darauf folgende Hetzkampagne der Krone gegen die sozialdemokratische Partei SPÖ gilt als erste erfolgreiche Kampagne der Krone. Ein jahrelanger Rechtsstreit zwischen der Zeitung und dem Gewerkschaftsbund war die Folge. Der ÖGB wurde schließlich mit elf Millionen Schilling abgefunden, und Kurt Falk übernahm die 50 Prozent des Deutschen Karpik.\\n\\nIn den achtziger Jahren stieg Kurt Falk nach einem längeren Streit mit Hans Dichand aus der Zeitung aus und verkaufte seine Anteile an die deutsche SPD-nahe WAZ-Verlagsgruppe. Ab 1989 übernahm Hans Mahr die Geschäftsführung der Krone. Er war dem Herausgeber Hans Dichand seit 1983 als Berater zur Seite gestanden.\\n\\n'"
      ]
     },
     "execution_count": 2,
     "metadata": {},
     "output_type": "execute_result"
    }
   ],
   "source": [
    "text"
   ]
  },
  {
   "cell_type": "code",
   "execution_count": 3,
   "id": "b7f75fd4-eeaa-4a5a-a1db-f47fd0172961",
   "metadata": {},
   "outputs": [],
   "source": [
    "my_list = text.split()"
   ]
  },
  {
   "cell_type": "code",
   "execution_count": 10,
   "id": "66836c59-7196-46bc-b009-f588212f5089",
   "metadata": {},
   "outputs": [
    {
     "name": "stdout",
     "output_type": "stream",
     "text": [
      "11\n",
      "wiederauferstehen\n",
      "kaufen\n",
      "schreibt\n",
      "Zeitung\n",
      "Titelblatt\n",
      "geklärt\n",
      "wollte\n",
      "Woche)\n",
      "Zeitung\n",
      "Krone\n",
      "vorgeschoben\n",
      "Krone\n",
      "Folge\n",
      "Karpik\n",
      "WAZ-Verlagsgruppe\n",
      "Krone\n",
      "gestanden\n"
     ]
    }
   ],
   "source": [
    "for word in my_list:\n",
    "    if \".\" in word:\n",
    "        print(word.replace(\".\",\"\"))"
   ]
  },
  {
   "cell_type": "code",
   "execution_count": 18,
   "id": "e6d87d48-5a8f-4872-835e-da5de1e37ed2",
   "metadata": {},
   "outputs": [],
   "source": [
    "new_list = []\n",
    "for word in my_list:\n",
    "    new_list.append(word.replace(\".\",\"\").replace(\",\",\"\"))"
   ]
  },
  {
   "cell_type": "code",
   "execution_count": 14,
   "id": "517e953a-cb5e-487a-9ea4-5b96cdfad007",
   "metadata": {},
   "outputs": [],
   "source": [
    "for w in new_list:\n",
    "    if \".\" in w:\n",
    "        print(w)"
   ]
  },
  {
   "cell_type": "code",
   "execution_count": 23,
   "id": "e9135b99-3105-40c7-972b-5488412f5649",
   "metadata": {},
   "outputs": [
    {
     "data": {
      "text/plain": [
       "'10.12.1980'"
      ]
     },
     "execution_count": 23,
     "metadata": {},
     "output_type": "execute_result"
    }
   ],
   "source": [
    "\"10.12.1980.\".strip(\".\")"
   ]
  },
  {
   "cell_type": "code",
   "execution_count": 19,
   "id": "669df1fd-7e32-4eb9-ab37-b4c5bc32b042",
   "metadata": {},
   "outputs": [],
   "source": [
    "import string"
   ]
  },
  {
   "cell_type": "code",
   "execution_count": 20,
   "id": "ad8b0ee3-d24f-4073-b072-eb7b73cd4200",
   "metadata": {},
   "outputs": [
    {
     "data": {
      "text/plain": [
       "'!\"#$%&\\'()*+,-./:;<=>?@[\\\\]^_`{|}~'"
      ]
     },
     "execution_count": 20,
     "metadata": {},
     "output_type": "execute_result"
    }
   ],
   "source": [
    "string.punctuation"
   ]
  },
  {
   "cell_type": "code",
   "execution_count": 29,
   "id": "0140300a-078f-4521-9688-89689c9b371c",
   "metadata": {},
   "outputs": [],
   "source": [
    "newest = []\n",
    "for element in my_list:\n",
    "    for punct in string.punctuation:\n",
    "        if element[-1] == punct:\n",
    "            element = element[:-1]\n",
    "    newest.append(element)"
   ]
  },
  {
   "cell_type": "code",
   "execution_count": 30,
   "id": "e1c5676a-a095-4414-a097-f4dbf44488a4",
   "metadata": {},
   "outputs": [
    {
     "data": {
      "text/plain": [
       "'1959 kaufte der österreichische Journalist Hans Dichand der bis dahin Chefredakteur der Zeitung Kurier gewesen war die Rechte am Titel Kronen Zeitung und ließ das Blatt ab 11 April 1959 als Neue Kronen Zeitung wiederauferstehen Anfang der 1960er Jahre beabsichtigte Fritz Molden die Krone zu kaufen Die Creditanstalt gewährte Molden jedoch den zum Kauf notwendigen Kredit nicht wie Hans Dichand in seinen Memoiren schreibt Von 1967 bis 1971 erschien sie als Unabhängige Kronen-Zeitung seither wieder als Neue Kronen Zeitung Das Wort Unabhängig blieb als Zusatz unter dem Namen der Zeitung auf dem Titelblatt Bis heute ist diese Finanzierung der Übernahme und des Betriebs der Zeitung nicht restlos geklärt Der höchst einflussreiche SPÖ-Politiker Franz Olah damaliger Vizepräsident des ÖGB vermittelte den deutschen Geschäftsmann Ferdinand Karpik an Dichand der sich mit 50 Prozent an der Zeitung beteiligen wollte Zur Seite gestellt wurde Dichand von dem deutschen Anleger ein Werbefachmann namens Kurt Falk (später Herausgeber der reichweitenstärksten Wochenzeitung Österreichs Die ganze Woche) Die Krone entwickelte sich bald zur meistgelesenen österreichischen Zeitung Mitte der sechziger Jahre stellte der ÖGB plötzlich Besitzansprüche an die Krone Der inzwischen gestürzte Franz Olah habe Bürgschaftsgelder des ÖGB zur Gründung der Krone verwendet und den deutschen Investor nur scheinhalber vorgeschoben Die darauf folgende Hetzkampagne der Krone gegen die sozialdemokratische Partei SPÖ gilt als erste erfolgreiche Kampagne der Krone Ein jahrelanger Rechtsstreit zwischen der Zeitung und dem Gewerkschaftsbund war die Folge Der ÖGB wurde schließlich mit elf Millionen Schilling abgefunden und Kurt Falk übernahm die 50 Prozent des Deutschen Karpik In den achtziger Jahren stieg Kurt Falk nach einem längeren Streit mit Hans Dichand aus der Zeitung aus und verkaufte seine Anteile an die deutsche SPD-nahe WAZ-Verlagsgruppe Ab 1989 übernahm Hans Mahr die Geschäftsführung der Krone Er war dem Herausgeber Hans Dichand seit 1983 als Berater zur Seite gestanden'"
      ]
     },
     "execution_count": 30,
     "metadata": {},
     "output_type": "execute_result"
    }
   ],
   "source": [
    "\" \".join(newest)"
   ]
  },
  {
   "cell_type": "code",
   "execution_count": 32,
   "id": "93f3036a-a05f-461b-9d69-6d796e3e9ffc",
   "metadata": {},
   "outputs": [
    {
     "name": "stdout",
     "output_type": "stream",
     "text": [
      "gewaehrte\n",
      "Unabhaengige\n",
      "Unabhaengig\n",
      "geklaert.\n",
      "Vizepraesident\n",
      "Geschaeftsmann\n",
      "(spaeter\n",
      "reichweitenstaerksten\n",
      "laengeren\n",
      "Geschaeftsführung\n"
     ]
    }
   ],
   "source": [
    "for c in my_list:\n",
    "    if \"ä\" in c:\n",
    "        print(c.replace(\"ä\",\"ae\"))"
   ]
  },
  {
   "cell_type": "code",
   "execution_count": null,
   "id": "530ed654-198b-430e-8316-be2353d7c680",
   "metadata": {},
   "outputs": [],
   "source": []
  },
  {
   "cell_type": "code",
   "execution_count": null,
   "id": "d0cbb5fd-676a-41be-a6ff-9b62332f1113",
   "metadata": {},
   "outputs": [],
   "source": []
  }
 ],
 "metadata": {
  "kernelspec": {
   "display_name": "Python 3 (ipykernel)",
   "language": "python",
   "name": "python3"
  },
  "language_info": {
   "codemirror_mode": {
    "name": "ipython",
    "version": 3
   },
   "file_extension": ".py",
   "mimetype": "text/x-python",
   "name": "python",
   "nbconvert_exporter": "python",
   "pygments_lexer": "ipython3",
   "version": "3.10.6"
  }
 },
 "nbformat": 4,
 "nbformat_minor": 5
}
