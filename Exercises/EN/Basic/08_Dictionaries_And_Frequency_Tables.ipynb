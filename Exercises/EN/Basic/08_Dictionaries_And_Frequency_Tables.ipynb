{
 "cells": [
  {
   "cell_type": "markdown",
   "metadata": {},
   "source": [
    "## About This Notebook\n",
    "\n",
    "In this notebook, we are moving towards a very important new concept called **dictionary**. We already know how to work with lists and lists of lists (which can store data sets). These are however rather basic forms of data. Dictionaries offer us a key/value approach to store data. For example, we might have looped through a list of lists and extracted certain *information* into a dictionary. \n",
    "***\n",
    "\n",
    "## 1. Dictionaries"
   ]
  },
  {
   "cell_type": "markdown",
   "metadata": {},
   "source": [
    "In the previous mission, we worked with the `AppleStore.csv` data set. The cont_rating column provides a lot of information regarding the content rating of each app. See below:<br>\n",
    "\n",
    "|Content rating |Number of apps|\n",
    "|--|--|\n",
    "|4+|4,433|\n",
    "|9+|987|\n",
    "|12+|1,155|\n",
    "|17+|622|"
   ]
  },
  {
   "cell_type": "markdown",
   "metadata": {},
   "source": [
    "How can we store the data above? We can do it in two ways:\n",
    "- Using two separate lists\n",
    "- Using a single list of lists"
   ]
  },
  {
   "cell_type": "code",
   "execution_count": 1,
   "metadata": {},
   "outputs": [],
   "source": [
    "# Two lists\n",
    "content_ratings = ['4+', '9+', '12+', '17+']\n",
    "numbers = [4433, 987, 1155, 622]\n",
    "\n",
    "# A list of lists\n",
    "content_rating_numbers = [['4+', '9+', '12+', '17+'], [4433, 987, 1155, 622]]"
   ]
  },
  {
   "cell_type": "markdown",
   "metadata": {},
   "source": [
    "Looking at the lists above, you may be confused which content rating corresponds to which number. Each list element has an index number and we will transform the index numbers to content rating values. We can do this using a <b> dictionary </b> like this:"
   ]
  },
  {
   "cell_type": "code",
   "execution_count": 2,
   "metadata": {},
   "outputs": [
    {
     "name": "stdout",
     "output_type": "stream",
     "text": [
      "{'4+': 4433, '9+': 987, '12+': 1155, '17+': 622}\n"
     ]
    }
   ],
   "source": [
    "content_ratings = {'4+':4433, '9+':987, '12+':1155, '17+':622}\n",
    "print(content_ratings)"
   ]
  },
  {
   "cell_type": "markdown",
   "metadata": {},
   "source": [
    "What we have created above are:\n",
    "- Mapped each content rating to its corresponding number by following an <b>index:value</b> pattern. \n",
    "- Seprated each pair with a comma\n",
    "- Surrounded the sequence with curly braces {}"
   ]
  },
  {
   "cell_type": "markdown",
   "metadata": {},
   "source": [
    "## 2. Indexing (IMPORTANT)\n",
    "\n",
    "We can change the index numbers of a list to content rating values in a dictionary. So the mapping between content ratings their corresponding numbers can become much clearer.\n",
    "\n",
    "Now the question comes, how do we retrieve the individual values of the content_ratings dictionary?  We can use the new indices like we did with the individual list elements following a <b>variable_name[index]</b> pattern like this:\n"
   ]
  },
  {
   "cell_type": "code",
   "execution_count": 4,
   "metadata": {},
   "outputs": [
    {
     "name": "stdout",
     "output_type": "stream",
     "text": [
      "4433\n",
      "1155\n"
     ]
    }
   ],
   "source": [
    "content_ratings = {'4+':4433, '9+':987, '12+':1155, '17+':622}\n",
    "print(content_ratings['4+'])\n",
    "print(content_ratings['12+'])"
   ]
  },
  {
   "cell_type": "markdown",
   "metadata": {},
   "source": [
    "The indexing of dictionary is something different than the list. \n",
    "> The order of the dictionary is not necessarily preserved whereas in the lists, the order is **always** preserved.\n",
    "\n",
    "For example, the index value 0 always retrieves the list element that's positioned first in a list. With dictionaries, there is no direct connection between the index of a value and the position of that value in the dictionary, that means, the order is unimportant. The index value '4+' will retrieve tha value 4433 no matter its position, it could be the first element, or the last element in the dictionary, the retrievd value doesn't matter."
   ]
  },
  {
   "cell_type": "code",
   "execution_count": 1,
   "metadata": {},
   "outputs": [
    {
     "name": "stdout",
     "output_type": "stream",
     "text": [
      "{'4+': 4433, '9+': 987, '12+': 1155, '17+': 622}\n"
     ]
    }
   ],
   "source": [
    "content_ratings = {'4+':4433, '9+':987, '12+':1155, '17+':622}\n",
    "print(content_ratings)"
   ]
  },
  {
   "cell_type": "markdown",
   "metadata": {},
   "source": [
    "### Task 1.5.2:\n",
    "\n",
    "1. Retrieve values from the ``content_ratings`` dictionary.\n",
    "    - Assign the value at index '9+' to a variable named `over_9`.\n",
    "    - Assign the value at index '17+' to a variable named `over_17`.\n",
    "2. Print `over_9` and `over_17`."
   ]
  },
  {
   "cell_type": "code",
   "execution_count": 2,
   "metadata": {},
   "outputs": [
    {
     "name": "stdout",
     "output_type": "stream",
     "text": [
      "987\n",
      "622\n"
     ]
    }
   ],
   "source": [
    "### Start your code below:\n",
    "over_9 = content_ratings['9+']\n",
    "over_17 = content_ratings['17+']\n",
    "print(over_9)\n",
    "print(over_17)\n",
    "\n"
   ]
  },
  {
   "cell_type": "markdown",
   "metadata": {},
   "source": [
    "## 3. Alternative way of Creating a Dictionary\n",
    "\n",
    "There is an alternative way of creating a dictionary like this:\n",
    "1. Create an empty dictionary.\n",
    "2. Add values one by one to that empty dictionary.\n",
    "    - like this: dictionary_name[index] = value\n",
    "    \n",
    "Take for example, if we want to add a value 4455 with an index '5+' to a dictionary named content_ratings, we need to use the code:\n",
    "\n",
    "````python\n",
    "content_ratings['5+'] = 4455\n",
    "````"
   ]
  },
  {
   "cell_type": "code",
   "execution_count": 7,
   "metadata": {},
   "outputs": [
    {
     "name": "stdout",
     "output_type": "stream",
     "text": [
      "{'5+': 4455}\n"
     ]
    }
   ],
   "source": [
    "content_ratings = {}\n",
    "content_ratings['5+'] = 4455\n",
    "\n",
    "print(content_ratings)"
   ]
  },
  {
   "cell_type": "code",
   "execution_count": 8,
   "metadata": {},
   "outputs": [
    {
     "name": "stdout",
     "output_type": "stream",
     "text": [
      "{'4+': 4433, '9+': 987, '12': 1155, '7+': 622}\n"
     ]
    }
   ],
   "source": [
    "#To keep adding more values, we can do like this:\n",
    "\n",
    "content_ratings = {}\n",
    "content_ratings['4+'] = 4433\n",
    "content_ratings['9+'] = 987\n",
    "content_ratings['12'] = 1155\n",
    "content_ratings['7+'] = 622\n",
    "\n",
    "print(content_ratings)"
   ]
  },
  {
   "cell_type": "markdown",
   "metadata": {},
   "source": [
    "## 4. Key-Value Pairs\n",
    "\n",
    "A <b>key </b>is a index of a dictionary value. Such as in our example '4+': 4433, the dictionary key is '4+', and the dictionary value is 4433. As a whole, '4+': 4433 is a <b>key-value pair</b>.\n",
    "\n",
    "All of the data types such as strings, integers, floats, Booleans, lists, and even dictionaries can be dictionary values."
   ]
  },
  {
   "cell_type": "code",
   "execution_count": 10,
   "metadata": {},
   "outputs": [
    {
     "name": "stdout",
     "output_type": "stream",
     "text": [
      "{'key_1': 'value_1', 'key_2': 1, 'key_3': 1.832, 'key_4': False, 'key_5': [1, 2, 3], 'key_6': {'inside key': 100}}\n",
      "value_1\n",
      "{'inside key': 100}\n"
     ]
    }
   ],
   "source": [
    "d_1 = { 'key_1' :'value_1',\n",
    "        'key_2' :1,\n",
    "        'key_3' :1.832,\n",
    "        'key_4' :False,\n",
    "        'key_5' :[1,2,3],\n",
    "        'key_6' :{'inside key': 100}\n",
    "}\n",
    "\n",
    "print(d_1)\n",
    "print(d_1['key_1'])\n",
    "print(d_1['key_6'])"
   ]
  },
  {
   "cell_type": "markdown",
   "metadata": {},
   "source": [
    "Different than the dictionary values, dictionary keys can not be [mutable types](https://towardsdatascience.com/https-towardsdatascience-com-python-basics-mutable-vs-immutable-objects-829a0cb1530a) like lists and dictionaries. A TypeError will be thrown if we try to use lists or dictionaries as dictionary keys."
   ]
  },
  {
   "cell_type": "code",
   "execution_count": 11,
   "metadata": {},
   "outputs": [
    {
     "name": "stdout",
     "output_type": "stream",
     "text": [
      "{5: 'int', '5': 'string', 3.5: 'float', False: 'Boolean'}\n"
     ]
    }
   ],
   "source": [
    "d_1 = { 5 :'int',\n",
    "        '5' :'string',\n",
    "        3.5 :'float',\n",
    "        False :'Boolean'}\n",
    "print(d_1)"
   ]
  },
  {
   "cell_type": "code",
   "execution_count": 12,
   "metadata": {},
   "outputs": [
    {
     "ename": "TypeError",
     "evalue": "unhashable type: 'list'",
     "output_type": "error",
     "traceback": [
      "\u001b[0;31m---------------------------------------------------------------------------\u001b[0m",
      "\u001b[0;31mTypeError\u001b[0m                                 Traceback (most recent call last)",
      "\u001b[0;32m<ipython-input-12-56ac594a8ff1>\u001b[0m in \u001b[0;36m<module>\u001b[0;34m\u001b[0m\n\u001b[1;32m      1\u001b[0m \u001b[0;31m#A TypeError will be thrown\u001b[0m\u001b[0;34m\u001b[0m\u001b[0;34m\u001b[0m\u001b[0;34m\u001b[0m\u001b[0m\n\u001b[0;32m----> 2\u001b[0;31m \u001b[0md_2\u001b[0m \u001b[0;34m=\u001b[0m \u001b[0;34m{\u001b[0m\u001b[0;34m[\u001b[0m\u001b[0;36m1\u001b[0m\u001b[0;34m,\u001b[0m\u001b[0;36m2\u001b[0m\u001b[0;34m,\u001b[0m\u001b[0;36m3\u001b[0m\u001b[0;34m]\u001b[0m\u001b[0;34m:\u001b[0m\u001b[0;34m'list'\u001b[0m\u001b[0;34m}\u001b[0m\u001b[0;34m\u001b[0m\u001b[0;34m\u001b[0m\u001b[0m\n\u001b[0m",
      "\u001b[0;31mTypeError\u001b[0m: unhashable type: 'list'"
     ]
    }
   ],
   "source": [
    "# A TypeError will be thrown\n",
    "d_2 = {[1,2,3]:'list'}"
   ]
  },
  {
   "cell_type": "code",
   "execution_count": 13,
   "metadata": {},
   "outputs": [
    {
     "ename": "TypeError",
     "evalue": "unhashable type: 'dict'",
     "output_type": "error",
     "traceback": [
      "\u001b[0;31m---------------------------------------------------------------------------\u001b[0m",
      "\u001b[0;31mTypeError\u001b[0m                                 Traceback (most recent call last)",
      "\u001b[0;32m<ipython-input-13-0e162488a573>\u001b[0m in \u001b[0;36m<module>\u001b[0;34m\u001b[0m\n\u001b[1;32m      1\u001b[0m \u001b[0;31m#A TypeError will be thrown\u001b[0m\u001b[0;34m\u001b[0m\u001b[0;34m\u001b[0m\u001b[0;34m\u001b[0m\u001b[0m\n\u001b[0;32m----> 2\u001b[0;31m \u001b[0md_2\u001b[0m \u001b[0;34m=\u001b[0m \u001b[0;34m{\u001b[0m\u001b[0;34m{\u001b[0m\u001b[0;34m'key'\u001b[0m\u001b[0;34m:\u001b[0m\u001b[0;34m'value'\u001b[0m\u001b[0;34m}\u001b[0m\u001b[0;34m:\u001b[0m\u001b[0;34m'dictionary'\u001b[0m\u001b[0;34m}\u001b[0m\u001b[0;34m\u001b[0m\u001b[0;34m\u001b[0m\u001b[0m\n\u001b[0m",
      "\u001b[0;31mTypeError\u001b[0m: unhashable type: 'dict'"
     ]
    }
   ],
   "source": [
    "# A TypeError will be thrown\n",
    "d_2 = {{'key':'value'}:'dictionary'}"
   ]
  },
  {
   "cell_type": "markdown",
   "metadata": {},
   "source": [
    "### Task 1.5.4:\n",
    "\n",
    "Create the following dictionary and assign it to a variable named ``d_1``:\n",
    "\n",
    "{'key_1': 'first_value', <br>\n",
    " 'key_2': 2, <br>\n",
    " 'key_3': 3.14, <br>\n",
    " 'key_4': True, <br>\n",
    " 'key_5': [4,2,1], <br>\n",
    " 'key_6': {'inner_key' : 6} <br>\n",
    " } <br>\n"
   ]
  },
  {
   "cell_type": "code",
   "execution_count": 7,
   "metadata": {},
   "outputs": [
    {
     "name": "stdout",
     "output_type": "stream",
     "text": [
      "{'key_1': 'first_value', 'key_2': 2, 'key_3': 3.14, 'key_4': True, 'key_5': [4, 2, 1], 'key_6': {'inner_key': 6}}\n",
      "{'key_1': 'first_value', 'key_2': 2, 'key_3': 3.14, 'key_4': True, 'key_5': [4, 2, 1], 'key_6': {'inner_key': 6}}\n"
     ]
    }
   ],
   "source": [
    "### Start your code below:\n",
    "d_1 = {'key_1': 'first_value', \n",
    "'key_2': 2, \n",
    "'key_3': 3.14, \n",
    "'key_4': True, \n",
    "'key_5': [4,2,1], \n",
    "'key_6': {'inner_key' : 6} \n",
    "} \n",
    "\n",
    "print(d_1)\n",
    "\n",
    "d_2 = {}\n",
    "d_2['key_1'] = 'first_value'\n",
    "d_2['key_2'] = 2\n",
    "d_2['key_3'] = 3.14\n",
    "d_2['key_4'] = True\n",
    "d_2['key_5'] = [4,2,1]\n",
    "d_2['key_6'] = {'inner_key':6}\n",
    "\n",
    "print(d_2)\n",
    "\n",
    "\n"
   ]
  },
  {
   "cell_type": "markdown",
   "metadata": {},
   "source": [
    "## 5. Counting with Dictionaries\n",
    "\n",
    "The code below will show you how to update or change the dictionary values within an existing dictionary."
   ]
  },
  {
   "cell_type": "code",
   "execution_count": 15,
   "metadata": {},
   "outputs": [
    {
     "name": "stdout",
     "output_type": "stream",
     "text": [
      "{'4+': 1, '9+': 1000, '12+': 27, '17+': '511'}\n"
     ]
    }
   ],
   "source": [
    "content_ratings = {'4+':4433, '9+':987, '12+':1155, '17+':622}\n",
    "\n",
    "# Change the value corresponding to the dictionary key '4+' from 4433 to 1.\n",
    "content_ratings['4+'] = 1\n",
    "\n",
    "# Add 13 to the value corresponding to the dictionary key '9+'.\n",
    "content_ratings['9+'] +=13\n",
    "\n",
    "# Subtract 1128 from the value corresponding to the dictionary key '12+'.\n",
    "content_ratings['12+'] -= 1128\n",
    "\n",
    "# Change the value corresponding to the dictionary key '17+' from 622 (integer) to '511' (string).\n",
    "content_ratings['17+'] = '511'\n",
    "\n",
    "print(content_ratings)"
   ]
  },
  {
   "cell_type": "markdown",
   "metadata": {},
   "source": [
    "**Now we can combine the updating dictionary values technique with what we already know to count how many times each unique content rating occurs in our data set.** Let's start with this list: ['4+', '4+', '4+', '9+', '9+', '12+', '17+'], which stores a few content ratings. To count how many times each rating occurs in this short list, we should:\n",
    "- Create a dictionary where all the values (initial count) are all 0:{'4+': 0, '9+': 0, '12+': 0, '17+': 0}.\n",
    "- Loop through the list ['4+', '4+', '4+', '9+', '9+', '12+', '17+'], and for each iteration:\n",
    "    - Check whether the iteration variable exists as a key in the previously created dictionary.\n",
    "    - If it exists, then increment the dictionary value at that key by 1."
   ]
  },
  {
   "cell_type": "code",
   "execution_count": 8,
   "metadata": {},
   "outputs": [
    {
     "data": {
      "text/plain": [
       "{'4+': 3, '9+': 2, '12+': 1, '17+': 1}"
      ]
     },
     "execution_count": 8,
     "metadata": {},
     "output_type": "execute_result"
    }
   ],
   "source": [
    "content_ratings = {'4+':0, '9+':0, '12+':0, '17+':0}\n",
    "ratings = ['4+','4+','4+','9+','9+','12+','17+']\n",
    "\n",
    "for c_rating in ratings:\n",
    "    if c_rating in content_ratings:\n",
    "        content_ratings[c_rating] += 1\n",
    "content_ratings"
   ]
  },
  {
   "cell_type": "markdown",
   "metadata": {},
   "source": [
    "To get a better overview, we can print the content_rating dictionary inside the for loop and see the changes that it makes every time:"
   ]
  },
  {
   "cell_type": "code",
   "execution_count": 17,
   "metadata": {},
   "outputs": [
    {
     "name": "stdout",
     "output_type": "stream",
     "text": [
      "{'4+': 1, '9+': 0, '12+': 0, '17+': 0}\n",
      "{'4+': 2, '9+': 0, '12+': 0, '17+': 0}\n",
      "{'4+': 3, '9+': 0, '12+': 0, '17+': 0}\n",
      "{'4+': 3, '9+': 1, '12+': 0, '17+': 0}\n",
      "{'4+': 3, '9+': 2, '12+': 0, '17+': 0}\n",
      "{'4+': 3, '9+': 2, '12+': 1, '17+': 0}\n",
      "{'4+': 3, '9+': 2, '12+': 1, '17+': 1}\n",
      "Final dictionary:\n"
     ]
    },
    {
     "data": {
      "text/plain": [
       "{'4+': 3, '9+': 2, '12+': 1, '17+': 1}"
      ]
     },
     "execution_count": 17,
     "metadata": {},
     "output_type": "execute_result"
    }
   ],
   "source": [
    "content_ratings = {'4+':0, '9+':0, '12+':0, '17+':0}\n",
    "ratings = ['4+','4+','4+','9+','9+','12+','17+']\n",
    "\n",
    "for c_rating in ratings:\n",
    "    if c_rating in content_ratings:\n",
    "        content_ratings[c_rating] += 1\n",
    "    print(content_ratings)\n",
    "print('Final dictionary:')\n",
    "content_ratings"
   ]
  },
  {
   "cell_type": "markdown",
   "metadata": {},
   "source": [
    "How it's time to read in our data set (AppleStore.csv) and use the technique we learned above to count number of times each unique content rating occurs.\n",
    "\n",
    "### Task 1.5.5:\n",
    "Count the number of times each unique content rating occurs in the data set.\n",
    "1. Create a dictionary named `content_ratings` where the keys are the unique content ratings and the values are all 0 (the values of 0 are temporary at this point, and they'll be updated). This dictionary should look like a set with pairing key (Feel free to take a look at the example above).\n",
    "2. Loop through the apps_data list of lists. Make sure you don't include the header row. For each iteration of the loop:\n",
    "    - Assign the content rating value to a variable named `c_rating`. The content rating is at index number 10 in each row.\n",
    "    - Check whether ``c_rating`` exists as a key in ``content_ratings``. If it exists, then increment the dictionary value at that key by 1 (the key is equivalent to the value stored in c_rating).\n",
    "3. Outside the loop, print `content_ratings` to check whether the counting worked as expected."
   ]
  },
  {
   "cell_type": "code",
   "execution_count": 12,
   "metadata": {},
   "outputs": [
    {
     "name": "stdout",
     "output_type": "stream",
     "text": [
      "{'4+': 4433, '9+': 987, '12+': 1155, '17+': 622}\n"
     ]
    }
   ],
   "source": [
    "opened_file = open('AppleStore.csv', encoding='utf8')\n",
    "from csv import reader\n",
    "read_file = reader(opened_file)\n",
    "apps_data = list(read_file)\n",
    "### Start your code below:\n",
    "content_ratings = {'4+':0, '9+':0, '12+':0, '17+':0}\n",
    "\n",
    "for row in apps_data[1:]:\n",
    "    c_rating = row[10]\n",
    "    \n",
    "    if c_rating in content_ratings:\n",
    "        content_ratings[c_rating] += 1\n",
    "        \n",
    "print(content_ratings)\n",
    "        \n",
    "    \n",
    "\n"
   ]
  },
  {
   "cell_type": "markdown",
   "metadata": {},
   "source": [
    "## 6. Finding the Unique Values\n",
    "\n",
    "In the example that we worked in the previous session, we knew each of the unique values we want to count beforehand. We if we didn't know what the unique content ratings are. For example, what should we do if we don't have enough information to create the dictionary {'4+': 0, '9+': 0, '12+': 0, '17+': 0}.\n",
    "\n",
    "We can update code that we did for the list ['4+', '4+', '4+', '9+', '9+', '12+', '17+'] to accomodate this charateristic. \n",
    "In in addition to the <b>if </b>statement, we also added an <b>else </b>statement. If this dictionary key does not exist in our dictionary, then we create a new key-value pair in the content_ratings dictionary, where the dictionary key is the iteration variable (c_rating) and the dictionary value is 1.\n"
   ]
  },
  {
   "cell_type": "code",
   "execution_count": 19,
   "metadata": {},
   "outputs": [
    {
     "data": {
      "text/plain": [
       "{'4+': 3, '9+': 2, '12+': 1, '17+': 1}"
      ]
     },
     "execution_count": 19,
     "metadata": {},
     "output_type": "execute_result"
    }
   ],
   "source": [
    "content_ratings = {}\n",
    "ratings = ['4+','4+','4+','9+','9+','12+','17+']\n",
    "\n",
    "for c_rating in ratings:\n",
    "    if c_rating in content_ratings:\n",
    "        content_ratings[c_rating] += 1\n",
    "    else:\n",
    "        content_ratings[c_rating] = 1\n",
    "content_ratings"
   ]
  },
  {
   "cell_type": "markdown",
   "metadata": {},
   "source": [
    "To get a better overview, we can print the content_rating dictionary inside the for loop and see the changes that it makes every time:"
   ]
  },
  {
   "cell_type": "code",
   "execution_count": 20,
   "metadata": {},
   "outputs": [
    {
     "name": "stdout",
     "output_type": "stream",
     "text": [
      "{'4+': 1}\n",
      "{'4+': 2}\n",
      "{'4+': 3}\n",
      "{'4+': 3, '9+': 1}\n",
      "{'4+': 3, '9+': 2}\n",
      "{'4+': 3, '9+': 2, '12+': 1}\n",
      "{'4+': 3, '9+': 2, '12+': 1, '17+': 1}\n",
      "Final dictionary:\n"
     ]
    },
    {
     "data": {
      "text/plain": [
       "{'4+': 3, '9+': 2, '12+': 1, '17+': 1}"
      ]
     },
     "execution_count": 20,
     "metadata": {},
     "output_type": "execute_result"
    }
   ],
   "source": [
    "content_ratings = {}\n",
    "ratings = ['4+','4+','4+','9+','9+','12+','17+']\n",
    "\n",
    "for c_rating in ratings:\n",
    "    if c_rating in content_ratings:\n",
    "        content_ratings[c_rating] += 1\n",
    "    else:\n",
    "        content_ratings[c_rating] = 1\n",
    "    print(content_ratings)\n",
    "    \n",
    "print('Final dictionary:')\n",
    "content_ratings"
   ]
  },
  {
   "cell_type": "markdown",
   "metadata": {},
   "source": [
    "### Task 1.5.6:\n",
    "Now let's apply what we have just learned in our data set:\n",
    "\n",
    "Count the number of times each unique content rating occurs in the data set while finding the unique values automatically.\n",
    "1. Create an empty dictionary named `content_ratings`.\n",
    "2. Loop through the `apps_data` list of lists (make sure you don't include the header row). For each iteration of the loop:\n",
    "    - Assign the content rating value to a variable named `c_rating`. The content rating is at index number 10.\n",
    "    - Check whether c_rating exists as a key in `content_ratings`.\n",
    "        - If it exists, then increment the dictionary value at that key by 1 (the key is equivalent to the value stored in c_rating).\n",
    "        - Else, create a new key-value pair in the dictionary, where the dictionary key is c_rating and the dictionary value is 3. Outside the loop, print content_ratings to check whether the counting worked as expected."
   ]
  },
  {
   "cell_type": "code",
   "execution_count": 15,
   "metadata": {},
   "outputs": [
    {
     "name": "stdout",
     "output_type": "stream",
     "text": [
      "{'4+': 4433, '12+': 1155, '9+': 987, '17+': 622}\n"
     ]
    }
   ],
   "source": [
    "opened_file = open('AppleStore.csv', encoding='utf8')\n",
    "from csv import reader\n",
    "read_file = reader(opened_file)\n",
    "apps_data = list(read_file)\n",
    "\n",
    "### Start your code here:\n",
    "content_ratings = {}\n",
    "\n",
    "for row in apps_data[1:]:\n",
    "    c_rating = row[10]\n",
    "    if c_rating in content_ratings:\n",
    "        content_ratings[c_rating] += 1\n",
    "    else:\n",
    "        content_ratings[c_rating] = 1\n",
    "    \n",
    "print(content_ratings)\n",
    "\n"
   ]
  },
  {
   "cell_type": "code",
   "execution_count": 43,
   "metadata": {},
   "outputs": [
    {
     "name": "stdout",
     "output_type": "stream",
     "text": [
      "pe__stephan_frauendorfer_StB_I_7 = 3\n",
      "pe__jakob_chetner_StB_I_7 = 5\n",
      "pe__konrad_chetner_StB_I_7 = 3\n",
      "pe__johann_hannsgraf_StB_I_40 = 2\n",
      "pe__hermann_von_eslarn_StB_I_54 = 2\n",
      "pe__stephan_leyttner_StB_I_54 = 4\n",
      "pe__michael_affer_StB_I_72 = 4\n",
      "pe__niklas_kamrer_StB_I_77 = 2\n",
      "pe__katharina_chettnerin_StB_I_78 = 2\n",
      "pe__niklas_chamrer_StB_I_77 = 2\n",
      "pe__heinrich_kamrer_StB_I_80 = 2\n",
      "pe__katharina_von_steyr_StB_I_99 = 2\n",
      "pe__heinrich_von_steyr_StB_I_99 = 2\n",
      "pe__meinhard_vischer_StB_I_134 = 2\n",
      "pe__jakob_gunser_StB_I_136 = 3\n",
      "pe__berthold_gevater_StB_I_136 = 2\n",
      "pe__ulrich_rude_StB_I_136 = 2\n",
      "pe__niklas_des_hosen_sun_StB_I_136 = 2\n",
      "pe__niklas_hosen_StB_I_136 = 3\n",
      "pe__brigitta_hosin_StB_I_136 = 2\n",
      "pe__margarethe_von_den_schotten_StB_I_143 = 2\n",
      "pe__ulrich_von_den_schotten_StB_I_143 = 2\n",
      "pe__christian_platner_StB_I_179 = 2\n",
      "pe__anna_gusterin_StB_I_199 = 2\n",
      "pe__niklas_guster_StB_I_199 = 2\n",
      "pe__kunigunde_vischerin_StB_I_240 = 2\n",
      "pe__paul_vischer_StB_I_240 = 2\n",
      "pe__heinrich_schepach_StB_I_243 = 5\n",
      "pe__otto_hakcher_StB_I_267 = 3\n",
      "pe__niklas_ayhenstawder_StB_I_282 = 2\n",
      "pe__margarethe_rollin_StB_I_284 = 2\n",
      "pe__martin_roll_StB_I_284 = 2\n",
      "pe__markhard_chugler_StB_I_284 = 10\n",
      "pe__pilgrim_hetler_StB_I_294 = 2\n",
      "pe__johann_murr_StB_I_310 = 2\n",
      "pe__heinrich_puchfeler_StB_I_313 = 3\n",
      "pe__stephan_wachsgiezzer_StB_I_320 = 2\n",
      "pe__katharina_sweykerin_StB_I_344 = 2\n",
      "pe__stephan_sweyker_StB_I_344 = 2\n",
      "pe__johann_hohenawer_StB_I_348 = 2\n",
      "pe__niklas_von_mewrling_StB_I_349 = 3\n",
      "pe__johann_pewgenslag_StB_I_350 = 2\n",
      "pe__johann_list_StB_I_357 = 2\n",
      "pe__johann_swab_StB_I_357 = 2\n",
      "pe__niklas_cheser_StB_I_360 = 5\n",
      "pe__niklas_schonn_StB_I_390 = 2\n",
      "pe__johann_trawtmann_StB_I_396 = 6\n",
      "pe__konrad_gusel_StB_I_414 = 2\n",
      "pe__peter_wentlinger_StB_I_414 = 2\n",
      "pe__niklas_wagner_StB_I_417 = 5\n",
      "pe__niklas_hewler_StB_I_422 = 5\n",
      "pe__johann_von_eslarn_StB_I_450 = 3\n",
      "pe__agnes_muldorfin_StB_I_450 = 2\n",
      "pe__hermann_muldorf_StB_I_450 = 2\n",
      "pe__magdalena_leyttnerin_StB_I_450 = 2\n",
      "pe__katharina_magseyttsin_StB_I_450 = 2\n",
      "pe__johann_magseytts_StB_I_450 = 2\n",
      "pe__meinhard_pheilsniczer_StB_I_454 = 3\n",
      "pe__paul_wagendrussel_StB_I_479 = 12\n",
      "pe__siegfried_pawkker_StB_I_480 = 2\n",
      "pe__trawtman_StB_I_480 = 2\n",
      "pe__martin_haymel_StB_I_480 = 3\n",
      "pe__katharina_haymelin_StB_I_481 = 2\n",
      "pe__andreas_purgermeister_StB_I_482 = 2\n",
      "pe__gundolt_von_elpeltaw_StB_I_487 = 2\n",
      "pe__johann_tewfel_StB_I_488 = 6\n",
      "pe__niklas_von_eslarn_StB_I_509 = 3\n",
      "pe__niklas_mader_StB_I_538 = 2\n",
      "pe__elisabeth_maderin_StB_I_538 = 2\n",
      "pe__michael_chuntter_ii_StB_I_538 = 5\n",
      "pe__katharina_chuntterin_StB_I_538 = 2\n",
      "pe__michael_chuntter_StB_I_538 = 2\n",
      "pe__jakob_gruen_StB_I_543 = 2\n",
      "pe__peter_slosser_StB_I_548 = 2\n",
      "pe__peter_schersmid_StB_I_548 = 2\n",
      "pe__jakob_echrer_StB_I_572 = 2\n",
      "pe__konrad_gwer_StB_I_578 = 2\n",
      "pe__martin_chern_StB_I_581 = 3\n",
      "pe__niklas_valich_StB_I_586 = 2\n",
      "pe__johann_strasser_StB_I_601 = 2\n",
      "pe__andreas_chrephl_StB_I_602 = 2\n",
      "pe__georg_affe_StB_I_619 = 3\n",
      "pe__laurenz_krepfl_StB_I_623 = 2\n",
      "pe__georg_gumpendorfer_StB_II_639 = 2\n",
      "pe__ulrich_reindl_StB_II_639 = 3\n",
      "pe__dietrich_starchant_StB_II_641 = 2\n",
      "pe__andreas_koch_StB_II_655 = 3\n",
      "pe__johann_linzer_StB_II_673 = 2\n",
      "pe__andreas_redler_StB_II_698 = 5\n",
      "pe__johann_plechsmit_StB_II_718 = 2\n",
      "pe__ulrich_hayd_StB_II_719 = 2\n",
      "pe__heinrich_gumpendorfer_StB_II_729 = 2\n",
      "pe__konrad_slosser_StB_II_736 = 2\n",
      "pe__markhard_kugler_StB_II_743 = 2\n",
      "pe__philipp_vasczieher_StB_II_759 = 2\n",
      "pe__jakob_drukcher_StB_II_780 = 3\n",
      "pe__andreas_pehem_StB_II_784 = 2\n",
      "pe__peter_gmach_StB_II_814 = 2\n",
      "pe__martin_lechner_StB_II_815 = 2\n",
      "pe__katharina_phanczagelin_StB_II_815 = 2\n",
      "pe__niklas_phanczagel_StB_II_815 = 2\n",
      "pe__konrad_gruber_StB_II_817 = 2\n",
      "pe__niklas_aus_der_newen_melgrub_StB_II_817 = 3\n",
      "pe__berthold_han_StB_II_822 = 2\n",
      "pe__johann_gair_StB_II_822 = 2\n",
      "pe__dietrich_pasman_StB_II_822 = 2\n",
      "pe__pilgrim_drischler_StB_II_826 = 3\n",
      "pe__ruediger_gulher_StB_II_826 = 2\n",
      "pe__konrad_von_asparn_StB_II_830 = 2\n",
      "pe__katharina_pepplerin_StB_II_830 = 2\n",
      "pe__niklas_lederpekch_StB_II_834 = 2\n",
      "pe__katharina_trawtmannin_StB_II_834 = 2\n",
      "pe__hermann_enczenuelder_StB_II_842 = 3\n",
      "pe__niklas_wagraymer_StB_II_843 = 2\n",
      "pe__kunigunde_StB_II_843 = 2\n",
      "pe__peter_messrer_StB_II_861 = 7\n",
      "pe__agnes_weinreichin_StB_II_871 = 2\n",
      "pe__stephan_weinreich_StB_II_871 = 2\n",
      "pe__niklas_zerrer_StB_II_871 = 2\n",
      "pe__siegfried_legenwein_StB_II_871 = 3\n",
      "pe__stephan_drescher_StB_II_871 = 2\n",
      "pe__wilhelm_hager_StB_II_874 = 2\n",
      "pe__konrad_rymer_StB_II_874 = 2\n",
      "pe__andreas_wenig_StB_II_887 = 2\n",
      "pe__wisent_rymer_StB_II_888 = 2\n",
      "pe__katharina_seuberleichin_StB_II_888 = 3\n",
      "pe__stephan_seuberleich_StB_II_888 = 3\n",
      "pe__martin_chuntter_StB_II_935 = 3\n",
      "pe__simon_kunigwiser_StB_II_958 = 2\n",
      "pe__elisabeth_kechkin_StB_II_958 = 2\n",
      "pe__wolfhard_kechk_StB_II_958 = 2\n",
      "pe__otto_kunigwiser_StB_II_958 = 2\n",
      "pe__kunigunde_gruenin_StB_II_958 = 2\n",
      "pe__bernhard_kramer_StB_II_971 = 2\n",
      "pe__elisabeth_wagenknechtin_StB_II_974 = 2\n",
      "pe__meinhard_wagenknecht_StB_II_974 = 2\n",
      "pe__thomas_wenig_StB_II_974 = 2\n",
      "pe__niklas_chalpfel_StB_II_979 = 5\n",
      "pe__konrad_gulher_StB_II_980 = 2\n",
      "pe__michael_herwart_StB_II_988 = 2\n",
      "pe__niklas_pawr_StB_II_995 = 2\n",
      "pe__johann_payr_StB_II_996 = 2\n",
      "pe__ulrich_winkchel_StB_II_1009 = 2\n",
      "pe__siegfried_im_staynhaws_StB_II_1038 = 2\n",
      "pe__konrad_rampperstorffer_StB_II_1039 = 3\n",
      "pe__georg_grunpekch_StB_II_1039 = 2\n",
      "pe__andreas_lanholcz_StB_II_1041 = 2\n",
      "pe__ortolf_tischer_StB_II_1070 = 2\n",
      "pe__heinrich_sneyder_StB_II_1070 = 2\n",
      "pe__martin_wachsgiesser_StB_II_1084 = 4\n",
      "pe__niklas_kramer_StB_II_1092 = 2\n",
      "pe__leopold_prunner_StB_II_1095 = 2\n",
      "pe__christian_vischer_StB_II_1107 = 6\n",
      "pe__simon_hantschuster_StB_II_1111 = 2\n",
      "pe__andreas_purger_StB_II_1125 = 4\n",
      "pe__ulrich_munsser_StB_II_1127 = 2\n",
      "pe__ulrich_slosser_StB_II_1151 = 2\n",
      "pe__ulrich_potl_StB_II_1160 = 2\n",
      "pe__siegfried_gurtler_StB_II_1163 = 2\n",
      "pe__gilg_taschner_StB_II_1166 = 5\n",
      "pe__konrad_rose_StB_II_1172 = 3\n",
      "pe__andreas_pawngartenperger_StB_II_1183 = 2\n",
      "pe__heinrich_eisner_StB_II_1196 = 2\n",
      "pe__adam_rayer_StB_II_1196 = 2\n",
      "pe__johann_harber_StB_II_1197 = 2\n",
      "pe__leopold_weyler_StB_II_1204 = 3\n",
      "pe__elisabeth_poglin_StB_II_1206 = 2\n",
      "pe__georg_pogl_StB_II_1206 = 2\n",
      "pe__martin_herlein_StB_II_1206 = 2\n",
      "pe__johann_schonknecht_StB_II_1206 = 2\n",
      "pe__elisabeth_kunigwiserin_StB_II_1218 = 3\n",
      "pe__johann_kunigwiser_StB_II_1218 = 4\n",
      "pe__heinrich_kekch_StB_III_1280 = 3\n",
      "pe__heinrich_cheuffel_StB_III_1283 = 2\n",
      "pe__niklas_hemerl_StB_III_1300 = 2\n",
      "pe__stephan_poll_StB_III_1307 = 5\n",
      "pe__niklas_poll_StB_III_1307 = 2\n",
      "pe__heinrich_vetter_StB_III_1358 = 2\n",
      "pe__laurenz_hager_StB_III_1368 = 2\n",
      "pe__johann_schonn_StB_III_1390 = 3\n",
      "pe__martin_prunner_StB_III_1390 = 2\n",
      "pe__konrad_munich_StB_III_1403 = 2\n",
      "pe__georg_dreisker_StB_III_1416 = 2\n",
      "pe__wolfhard_schersmid_StB_III_1416 = 2\n",
      "pe__heinrich_pekch_StB_III_1423 = 2\n",
      "pe__wolfhard_koch_StB_III_1423 = 2\n",
      "pe__gertrud_newndorfferin_StB_III_1438 = 2\n",
      "pe__johann_newndorffer_StB_III_1438 = 3\n",
      "pe__bernhard_an_sarg_StB_III_1438 = 2\n",
      "pe__peter_prewndel_StB_III_1818 = 7\n",
      "pe__ulrich_von_nycolspurg_StB_III_1453 = 2\n",
      "pe__siegfried_paugker_StB_III_1462 = 2\n",
      "pe__niklas_edelparcz_StB_III_1476 = 7\n",
      "pe__martin_aczinger_StB_III_1476 = 2\n",
      "pe__ulrich_goltslaher_StB_III_1483 = 2\n",
      "pe__christian_prettrager_StB_III_1510 = 2\n",
      "pe__johann_gartner_StB_III_1512 = 3\n",
      "pe__niklas_weispacher_StB_III_1535 = 3\n",
      "pe__niklas_struczel_StB_III_1539 = 2\n",
      "pe__peter_echter_StB_III_1551 = 2\n",
      "pe__anna_schieckin_StB_III_1551 = 3\n",
      "pe__eckart_geyrkropf_StB_III_1551 = 3\n",
      "pe__eckart_schieck_StB_III_1551 = 2\n",
      "pe__johann_aczinger_StB_III_1552 = 3\n",
      "pe__ulrich_menschein_StB_III_1552 = 2\n",
      "pe__johann_von_krems_StB_III_1556 = 2\n",
      "pe__johann_vom_kamp_StB_III_1556 = 2\n",
      "pe__simon_von_gars_StB_III_1556 = 2\n",
      "pe__niklas_zechmaister_StB_III_1560 = 3\n",
      "pe__johann_hendl_StB_III_1568 = 2\n",
      "pe__ulrich_geyr_StB_III_1600 = 2\n",
      "pe__christian_schorndel_StB_III_1600 = 2\n",
      "pe__johann_paternoster_StB_III_1605 = 2\n",
      "pe__heinrich_tolfues_StB_III_1617 = 2\n",
      "pe__stephan_spet_StB_III_1627 = 2\n",
      "pe__stephan_maler_StB_III_1627 = 2\n",
      "pe__jakob_maler_StB_III_1627 = 2\n",
      "pe__johann_gaisnack_StB_III_1641 = 2\n",
      "pe__thomas_schondel_StB_III_1673 = 2\n",
      "pe__oswald_schondel_StB_III_1673 = 2\n",
      "pe__peter_lerrer_StB_III_1674 = 2\n",
      "pe__thomas_wagen_StB_III_1674 = 2\n",
      "pe__gilg_herwart_StB_III_1675 = 2\n",
      "pe__thomas_schuster_StB_III_1688 = 2\n",
      "pe__heinrich_futschopf_StB_III_1699 = 2\n",
      "pe__heinrich_hintenach_StB_III_1729 = 2\n",
      "pe__christian_zerrer_StB_III_1729 = 2\n",
      "pe__johann_kraganer_StB_III_1729 = 2\n",
      "pe__heinrich_pawr_StB_III_1729 = 2\n",
      "pe__michael_judenmayr_StB_III_1741 = 3\n",
      "pe__oswald_kamrer_StB_III_1741 = 2\n",
      "pe__konrad_goldloffel_StB_III_1744 = 2\n",
      "pe__niklas_goldloffel_StB_III_1744 = 2\n",
      "pe__konrad_slosser_StB_III_1744 = 2\n",
      "pe__georg_gumpendorfer_StB_III_1759 = 2\n",
      "pe__johann_in_dem_mauthaus_StB_III_1769 = 3\n",
      "pe__konrad_nymeruol_StB_III_1785 = 2\n",
      "pe__otto_hacker_StB_III_1807 = 3\n",
      "pe__stephan_schreiber_StB_III_1818 = 4\n",
      "pe__niklas_peutler_StB_III_1820 = 2\n",
      "pe__stephan_abtstorffer_StB_III_1820 = 2\n",
      "pe__ulrich_waicz_StB_III_1821 = 2\n",
      "pe__konrad_waicz_StB_III_1821 = 3\n",
      "pe__friedrich_von_aschpach_StB_III_1821 = 2\n",
      "pe__niklas_drumawer_StB_III_1823 = 3\n",
      "pe__ulrich_helbling_StB_III_1824 = 2\n",
      "pe__johann_mosprunner_StB_III_1828 = 3\n",
      "pe__konrad_hemler_StB_III_1829 = 2\n",
      "pe__niklas_flusthart_StB_III_1829 = 2\n",
      "pe__ulrich_radewndl_StB_III_1845 = 2\n",
      "pe__friedrich_rauscher_StB_III_1852 = 3\n",
      "pe__christian_kalsching_StB_III_1854 = 2\n",
      "pe__otto_von_perchtolstorff_StB_III_1854 = 4\n",
      "pe__johann_gruber_StB_V_3059 = 4\n",
      "pe__peter_schulderwein_StB_IV_1868 = 2\n",
      "pe__jakob_wechel_StB_IV_1872 = 2\n",
      "pe__johann_prewer_StB_IV_1884 = 3\n",
      "pe__liebhard_trukchensprot_StB_IV_1892 = 3\n",
      "pe__simon_smid_StB_IV_1897 = 2\n",
      "pe__thomas_liechtkamrer_StB_IV_1903 = 3\n",
      "pe__ulrich_spyes_StB_IV_1926 = 2\n",
      "pe__dietrich_hederler_StB_IV_1932 = 2\n",
      "pe__elisabeth_in_dem_werd_StB_IV_1944 = 4\n",
      "pe__niklas_in_dem_werd_StB_IV_1944 = 3\n",
      "pe__erhard_fleischhacker_StB_IV_1944 = 2\n",
      "pe__friedrich_resch_StB_IV_1946 = 2\n",
      "pe__ulrich_humel_StB_IV_1954 = 2\n",
      "pe__siegfried_munsser_StB_IV_1963 = 4\n",
      "pe__heinrich_payr_StB_IV_1965 = 2\n",
      "pe__konrad_kern_StB_IV_1968 = 2\n",
      "pe__wilhelm_hansgraf_StB_IV_1991 = 2\n",
      "pe__georg_newer_StB_IV_1991 = 2\n",
      "pe__martin_pot_StB_IV_1999 = 2\n",
      "pe__peter_grecz_StB_IV_2000 = 2\n",
      "pe__andreas_pawr_StB_IV_2001 = 3\n",
      "pe__wulffing_schutaus_StB_IV_2001 = 3\n",
      "pe__niklas_gutjar_StB_IV_2001 = 3\n",
      "pe__thomas_harrer_StB_IV_2001 = 3\n",
      "pe__georg_remler_StB_IV_2001 = 3\n",
      "pe__paul_wurffl_StB_V_2817 = 5\n",
      "pe__otto_weiss_StB_IV_2021 = 3\n",
      "pe__johann_perman_StB_IV_2033 = 2\n",
      "pe__michael_zechentner_StB_IV_2033 = 2\n",
      "pe__niklas_pawr_StB_IV_2033 = 2\n",
      "pe__markhard_pantsneider_StB_IV_2095 = 3\n",
      "pe__johann_stiglicz_StB_IV_2095 = 2\n",
      "pe__stephan_gunderstorffer_StB_IV_2109 = 2\n",
      "pe__elisabeth_von_walterstorf_StB_IV_2125 = 2\n",
      "pe__rudolf_von_walterstorf_StB_IV_2125 = 2\n",
      "pe__katharina_sweibrerin_StB_IV_2131 = 2\n",
      "pe__otto_sweibrer_StB_IV_2131 = 2\n",
      "pe__georg_swarcz_StB_IV_2136 = 2\n",
      "pe__stephan_kolb_ii_StB_IV_2136 = 2\n",
      "pe__johann_munich_StB_IV_2153 = 2\n",
      "pe__andreas_ris_StB_IV_2168 = 2\n",
      "pe__ulrich_in_dem_werd_StB_IV_2175 = 2\n",
      "pe__michael_menschein_StB_IV_2184 = 4\n",
      "pe__elisabeth_kurczin_StB_IV_2205 = 2\n",
      "pe__heinrich_kurcz_StB_IV_2205 = 2\n",
      "pe__niklas_huter_StB_IV_2205 = 2\n",
      "pe__johann_prager_StB_IV_2222 = 2\n",
      "pe__thomas_von_weytra_StB_IV_2237 = 5\n",
      "pe__niklas_aufgeber_StB_IV_2238 = 2\n",
      "pe__konrad_auf_dem_goczacker_StB_V_2862 = 4\n",
      "pe__elisabeth_kollnerin_StB_IV_2250 = 2\n",
      "pe__berthold_kollner_StB_IV_2250 = 2\n",
      "pe__michael_grendel_StB_IV_2250 = 2\n",
      "pe__niklas_harber_StB_IV_2287 = 2\n",
      "pe__stephan_steyrer_StB_IV_2318 = 2\n",
      "pe__johann_hagen_StB_IV_2319 = 2\n",
      "pe__niklas_mentsch_StB_IV_2361 = 2\n",
      "pe__niklas_straiffing_StB_IV_2368 = 4\n",
      "pe__christian_von_kalsching_StB_IV_2373 = 2\n",
      "pe__heinrich_plumler_StB_IV_2373 = 2\n",
      "pe__konrad_von_plaben_StB_IV_2381 = 2\n",
      "pe__niklas_melher_StB_IV_2384 = 2\n",
      "pe__michael_von_gars_StB_IV_2387 = 2\n",
      "pe__johann_strudmer_StB_IV_2387 = 2\n",
      "pe__elisabeth_panczawnin_StB_IV_2398 = 2\n",
      "pe__johann_panczawn_StB_IV_2398 = 2\n",
      "pe__johann_meichsner_StB_IV_2398 = 2\n",
      "pe__thomas_tullner_StB_IV_2405 = 3\n",
      "pe__jakob_von_dermstain_StB_IV_2418 = 2\n",
      "pe__jakob_mawrer_StB_IV_2418 = 2\n",
      "pe__katharina_rembsin_StB_IV_2418 = 2\n",
      "pe__thomas_rembs_StB_IV_2418 = 2\n",
      "pe__laurenz_junger_StB_IV_2447 = 3\n",
      "pe__eberhard_volkra_StB_IV_2449 = 2\n",
      "pe__pankraz_hederstorffer_StB_IV_2449 = 2\n",
      "pe__dorothea_volkrain_StB_IV_2449 = 2\n",
      "pe__johann_weiss_StB_IV_2475 = 2\n",
      "pe__matthias_chrell_StB_IV_2501 = 2\n",
      "pe__heinrich_kolpekch_StB_V_2560 = 3\n",
      "pe__jakob_von_steyr_StB_V_2560 = 4\n",
      "pe__friedrich_purgerpekch_StB_V_2566 = 2\n",
      "pe__jakob_kewffel_StB_V_2578 = 2\n",
      "pe__christian_vischer_StB_V_2578 = 2\n",
      "pe__johann_weinhekchl_StB_V_2584 = 2\n",
      "pe__simon_hafner_StB_V_2591 = 2\n",
      "pe__heinrich_leinbater_StB_V_2593 = 6\n",
      "pe__johann_vorlauff_StB_V_2622 = 2\n",
      "pe__ulrich_eglseer_StB_V_2635 = 2\n",
      "pe__ulrich_ryczinger_StB_V_2635 = 2\n",
      "pe__anna_chiserinn_StB_V_2635 = 2\n",
      "pe__thomas_halbphaff_StB_V_2653 = 2\n",
      "pe__peter_gemach_StB_V_2659 = 2\n",
      "pe__niklas_underm_himel_StB_V_2690 = 6\n",
      "pe__johann_von_furt_StB_V_2690 = 2\n",
      "pe__niklas_kirichsteter_StB_V_2735 = 3\n",
      "pe__andreas_sochel_StB_V_2735 = 3\n",
      "pe__jakob_von_pehemkirchen_StB_V_2735 = 3\n",
      "pe__georg_hag_StB_V_2749 = 6\n",
      "pe__heinrich_tolfues_StB_V_2749 = 2\n",
      "pe__anna_sperrenpewtlin_StB_V_2753 = 2\n",
      "pe__johann_sperrenpewtl_StB_V_2753 = 3\n",
      "pe__heinrich_hofpinter_StB_V_2805 = 2\n",
      "pe__franz_wachsgiesser_StB_V_2805 = 2\n",
      "pe__thomas_wachsgiesser_ii_StB_V_2805 = 2\n",
      "pe__dorothea_wachgiesserin_StB_V_2805 = 2\n",
      "pe__thomas_wachgiesser_i_StB_V_2805 = 2\n",
      "pe__erhard_egk_StB_V_2817 = 3\n",
      "pe__philipp_kuefuesser_StB_V_2819 = 2\n",
      "pe__peter_waicz_StB_V_2833 = 2\n",
      "pe__leopold_rat_StB_V_2856 = 3\n",
      "pe__paul_satler_StB_V_2860 = 2\n",
      "pe__wolfhard_wolf_StB_V_2874 = 2\n",
      "pe__friedrich_prantesser_StB_V_2880 = 2\n",
      "pe__johann_abian_StB_V_2905 = 2\n",
      "pe__johann_stirling_StB_V_2930 = 2\n",
      "pe__friedrich_gemaytel_StB_V_2930 = 2\n",
      "pe__martin_stirling_StB_V_2930 = 2\n",
      "pe__katharina_stirlingin_StB_V_2930 = 2\n",
      "pe__niklas_reicher_StB_V_2942 = 3\n",
      "pe__simon_chuntter_StB_V_2950 = 3\n",
      "pe__johann_hemerl_StB_V_2963 = 2\n",
      "pe__gundolt_leinbater_StB_V_2963 = 2\n",
      "pe__elisabeth_kriegin_StB_V_2963 = 2\n",
      "pe__johann_krieg_StB_V_2963 = 2\n",
      "pe__stephan_thalhaymer_StB_V_2963 = 2\n",
      "pe__hermann_perman_StB_V_2980 = 3\n",
      "pe__friedrich_von_mynden_StB_V_2980 = 2\n",
      "pe__katharina_von_mynden_StB_V_2980 = 2\n",
      "pe__arnold_von_mynden_StB_V_2980 = 2\n",
      "pe__burkhard_meczner_i_StB_V_2980 = 2\n",
      "pe__burkhard_meczner_ii_StB_V_2980 = 3\n",
      "pe__peter_schafswol_StB_V_2992 = 2\n",
      "pe__stephan_glaser_StB_V_2994 = 2\n",
      "pe__niklas_hamawsch_StB_V_3003 = 2\n",
      "pe__gertrud_hamawschin_StB_V_3003 = 2\n",
      "pe__konrad_kyembseer_StB_V_3009 = 2\n",
      "pe__stephan_goltpach_StB_V_3012 = 2\n",
      "pe__niklas_waicz_StB_V_3012 = 2\n",
      "pe__johann_waicz_StB_V_3012 = 2\n",
      "pe__anna_waiczin_StB_V_3012 = 2\n",
      "pe__pilgrim_von_sand_veyt_StB_V_3013 = 2\n",
      "pe__stephan_von_sand_veyt_StB_V_3013 = 2\n",
      "pe__johann_egkprecht_StB_V_3023 = 2\n",
      "pe__johann_mautter_StB_V_3023 = 2\n",
      "pe__ulrich_egkprecht_i_StB_V_3023 = 2\n",
      "pe__meinhard_pheilsniczer_StB_V_3031 = 3\n",
      "pe__barbara_zingkin_StB_V_3098 = 2\n",
      "pe__erasmus_zingk_StB_V_3098 = 2\n",
      "pe__niklas_zingk_StB_V_3100 = 2\n",
      "pe__laurenz_holczkeuffel_StB_V_3108 = 2\n",
      "pe__anna_pheilsniczerin_StB_V_3112 = 2\n",
      "pe__simon_pheilsniczer_StB_V_3112 = 2\n",
      "pe__stephan_schussler_StB_V_3112 = 2\n",
      "pe__thomas_dachsawer_StB_V_3173 = 2\n",
      "pe__martin_goltsmid_StB_V_3173 = 2\n",
      "pe__urban_goltsmid_StB_V_3173 = 2\n",
      "pe__friedrich_dachsawer_StB_V_3173 = 2\n"
     ]
    }
   ],
   "source": [
    "opened_file = open('PersonsN4J.csv', encoding='utf8')\n",
    "from csv import reader\n",
    "read_file = reader(opened_file, delimiter = \";\")\n",
    "person_data = list(read_file)\n",
    "\n",
    "### Start your code here:\n",
    "person_nr = {}\n",
    "\n",
    "for row in person_data[1:]:\n",
    "    no_mention = row[3]\n",
    "    if no_mention in person_nr:\n",
    "        person_nr[no_mention] += 1\n",
    "    else:\n",
    "        person_nr[no_mention] = 1\n",
    "    \n",
    "# if  person_nr > 1:\n",
    "for each in person_nr:\n",
    "    if person_nr[each] > 1:\n",
    "        print(each, \"=\", person_nr[each])\n",
    "\n"
   ]
  },
  {
   "cell_type": "markdown",
   "metadata": {},
   "source": [
    "## 7. Proportions and Percentages\n",
    "\n",
    "The following table is known as the frequency table. A frequency is the number of times a unique value occurs.\n",
    "\n",
    "|Content rating|Number of apps (frequency)|\n",
    "|--|--|\n",
    "|4+|4,433|\n",
    "|9+|987|\n",
    "|12+|1,155|\n",
    "|17+|622|\n",
    "\n",
    "4+ occurs 4,433 times, so it has a frequency of 4,433. 12+ has a frequency of 1,155. 9+ has a frequency of 987. 17+ has the lowest frequency: 622.\n",
    "\n",
    "When we analyze the data set, it might also be interesting to look at the following questions:\n",
    "- What proportion of apps have a content rating of 4+?\n",
    "- What percentage of apps have a content rating of 17+?\n",
    "- What percentage of apps can a 15-year-old download?\n",
    "\n",
    "To get the proportion of apps with a content rating of 4+, we can use the number of 4+ apps divide by the total number of apps like this:\n",
    "4,443/7,197\n",
    "\n",
    "Instead of fraction, we can also express proportion as a decimal between 0 and 1. So the result of 4,443/7,197 will be 0.62.\n",
    "\n",
    "The percentage of 4+ apps we can get it by simply multiplying the proportions by 100, so it will be 62%."
   ]
  },
  {
   "cell_type": "markdown",
   "metadata": {},
   "source": [
    "## 8. Looping over Dictionaries\n",
    "\n",
    "We can transform the frequencies to proportions or percentages individually by performing the required arithmetical operations like this:"
   ]
  },
  {
   "cell_type": "code",
   "execution_count": 23,
   "metadata": {},
   "outputs": [
    {
     "name": "stdout",
     "output_type": "stream",
     "text": [
      "{'4+': 0.6159510907322495, '9+': 0.13714047519799916, '12+': 0.16048353480616923, '17+': 0.08642489926358204}\n"
     ]
    }
   ],
   "source": [
    "content_ratings = {'4+':4433, '9+':987, '12+':1155, '17+':622}\n",
    "total_number_of_apps = 7197\n",
    "\n",
    "content_ratings['4+']/=total_number_of_apps\n",
    "content_ratings['9+']/=total_number_of_apps\n",
    "content_ratings['12+']/=total_number_of_apps\n",
    "content_ratings['17+']/=total_number_of_apps\n",
    "\n",
    "print(content_ratings)"
   ]
  },
  {
   "cell_type": "markdown",
   "metadata": {},
   "source": [
    "It can be very cumbersome to update each and every content_rating dictionary value manually. Therefore, we can use a for loop to iterate over a dictionary."
   ]
  },
  {
   "cell_type": "code",
   "execution_count": 24,
   "metadata": {},
   "outputs": [
    {
     "name": "stdout",
     "output_type": "stream",
     "text": [
      "4+\n",
      "9+\n",
      "12+\n",
      "17+\n"
     ]
    }
   ],
   "source": [
    "content_ratings = {'4+':4433, '9+':987, '12+':1155, '17+':622}\n",
    "\n",
    "for iteration_variable in content_ratings:\n",
    "    print(iteration_variable)"
   ]
  },
  {
   "cell_type": "markdown",
   "metadata": {},
   "source": [
    "We can also use the dictionary keys to access the dictionary values within the loop:"
   ]
  },
  {
   "cell_type": "code",
   "execution_count": 25,
   "metadata": {},
   "outputs": [
    {
     "name": "stdout",
     "output_type": "stream",
     "text": [
      "4+\n",
      "4433\n",
      "9+\n",
      "987\n",
      "12+\n",
      "1155\n",
      "17+\n",
      "622\n"
     ]
    }
   ],
   "source": [
    "content_ratings = {'4+':4433, '9+':987, '12+':1155, '17+':622}\n",
    "\n",
    "for iteration_variable in content_ratings:\n",
    "    print(iteration_variable)\n",
    "    print(content_ratings[iteration_variable])"
   ]
  },
  {
   "cell_type": "markdown",
   "metadata": {},
   "source": [
    "With the technique above, we can update the dictionary values within loop:"
   ]
  },
  {
   "cell_type": "code",
   "execution_count": 26,
   "metadata": {},
   "outputs": [
    {
     "name": "stdout",
     "output_type": "stream",
     "text": [
      "{'4+': 0.6159510907322495, '9+': 0.13714047519799916, '12+': 0.16048353480616923, '17+': 0.08642489926358204}\n"
     ]
    }
   ],
   "source": [
    "content_ratings = {'4+':4433, '9+':987, '12+':1155, '17+':622}\n",
    "total_number_of_apps = 7197\n",
    "\n",
    "for iteration_variable in content_ratings:\n",
    "    content_ratings[iteration_variable] /= total_number_of_apps\n",
    "print(content_ratings)"
   ]
  },
  {
   "cell_type": "markdown",
   "metadata": {},
   "source": [
    "## 9. Small Bonus (OPTIONAL)\n",
    "The looping through dictionaries which we used in this notebook is really used only for training purposes. In a productive and professional code, you would not want to use it. \n",
    "\n",
    "Here is a recommendation by our RBCZ colleague *Jakub Korecek*:\n",
    ">  Dictionary has one important and very useful method to check whether a key is ``existent``. This method is called ``get()``.\n",
    "The useful part is, we can assign value if a key does not exist instead of having KeyError. The default values is ``None``, but we can set it up."
   ]
  },
  {
   "cell_type": "code",
   "execution_count": 2,
   "metadata": {},
   "outputs": [
    {
     "name": "stdout",
     "output_type": "stream",
     "text": [
      "1\n",
      "None\n",
      "KEY DO NOT EXISTS\n"
     ]
    }
   ],
   "source": [
    "test_dict = {'A':1,'B':2}\n",
    "print(test_dict.get('A'))\n",
    "print(test_dict.get('C'))\n",
    "print(test_dict.get('C','KEY DO NOT EXISTS'))"
   ]
  },
  {
   "cell_type": "markdown",
   "metadata": {},
   "source": [
    "> There is another way to iterate over Dictionary. This way is better from performance point of view. It is done by method called ``items()``."
   ]
  },
  {
   "cell_type": "code",
   "execution_count": 3,
   "metadata": {},
   "outputs": [
    {
     "name": "stdout",
     "output_type": "stream",
     "text": [
      "A 1\n",
      "B 2\n"
     ]
    }
   ],
   "source": [
    "test_dict = {'A':1,'B':2}\n",
    "for key,value in test_dict.items():\n",
    "    print(key,value)"
   ]
  }
 ],
 "metadata": {
  "kernelspec": {
   "display_name": "Python 3 (ipykernel)",
   "language": "python",
   "name": "python3"
  },
  "language_info": {
   "codemirror_mode": {
    "name": "ipython",
    "version": 3
   },
   "file_extension": ".py",
   "mimetype": "text/x-python",
   "name": "python",
   "nbconvert_exporter": "python",
   "pygments_lexer": "ipython3",
   "version": "3.9.12"
  }
 },
 "nbformat": 4,
 "nbformat_minor": 4
}
