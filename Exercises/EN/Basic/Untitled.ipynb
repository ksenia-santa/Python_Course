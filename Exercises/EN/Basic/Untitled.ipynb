{
 "cells": [
  {
   "cell_type": "code",
   "execution_count": 7,
   "id": "723030f0-6a97-4f92-8e8a-3d9b8fbf9b5d",
   "metadata": {},
   "outputs": [],
   "source": [
    "import pandas as pd\n",
    "import numpy as np\n",
    "import matplotlib.pyplot as plt\n",
    "import seaborn as sns"
   ]
  },
  {
   "cell_type": "code",
   "execution_count": 40,
   "id": "d208e837-91f8-43f6-bbcd-0d6ea102e3d7",
   "metadata": {},
   "outputs": [
    {
     "data": {
      "text/html": [
       "<div>\n",
       "<style scoped>\n",
       "    .dataframe tbody tr th:only-of-type {\n",
       "        vertical-align: middle;\n",
       "    }\n",
       "\n",
       "    .dataframe tbody tr th {\n",
       "        vertical-align: top;\n",
       "    }\n",
       "\n",
       "    .dataframe thead th {\n",
       "        text-align: right;\n",
       "    }\n",
       "</style>\n",
       "<table border=\"1\" class=\"dataframe\">\n",
       "  <thead>\n",
       "    <tr style=\"text-align: right;\">\n",
       "      <th></th>\n",
       "      <th>ID</th>\n",
       "      <th>nr</th>\n",
       "      <th>date</th>\n",
       "      <th>persTag</th>\n",
       "      <th>sex</th>\n",
       "      <th>fn_role</th>\n",
       "    </tr>\n",
       "  </thead>\n",
       "  <tbody>\n",
       "    <tr>\n",
       "      <th>0</th>\n",
       "      <td>1</td>\n",
       "      <td>7</td>\n",
       "      <td>1395-12-04</td>\n",
       "      <td>pe__stephan_frauendorfer_StB_I_7</td>\n",
       "      <td>m</td>\n",
       "      <td>weisend</td>\n",
       "    </tr>\n",
       "    <tr>\n",
       "      <th>1</th>\n",
       "      <td>2</td>\n",
       "      <td>7</td>\n",
       "      <td>1395-12-04</td>\n",
       "      <td>pe__pilgrim_snaeczel_StB_I_7</td>\n",
       "      <td>m</td>\n",
       "      <td>witness</td>\n",
       "    </tr>\n",
       "    <tr>\n",
       "      <th>2</th>\n",
       "      <td>3</td>\n",
       "      <td>7</td>\n",
       "      <td>1395-12-04</td>\n",
       "      <td>pe__erasmus_mallczer_StB_I_7</td>\n",
       "      <td>m</td>\n",
       "      <td>witness</td>\n",
       "    </tr>\n",
       "    <tr>\n",
       "      <th>3</th>\n",
       "      <td>4</td>\n",
       "      <td>7</td>\n",
       "      <td>1395-12-04</td>\n",
       "      <td>pe__kaspar_frauendorffer_StB_I_7</td>\n",
       "      <td>m</td>\n",
       "      <td>gewiesen</td>\n",
       "    </tr>\n",
       "    <tr>\n",
       "      <th>4</th>\n",
       "      <td>5</td>\n",
       "      <td>7</td>\n",
       "      <td>1395-12-04</td>\n",
       "      <td>pe__wolfgang_frauendorffer_StB_I_7</td>\n",
       "      <td>m</td>\n",
       "      <td>gewiesen</td>\n",
       "    </tr>\n",
       "    <tr>\n",
       "      <th>5</th>\n",
       "      <td>6</td>\n",
       "      <td>7</td>\n",
       "      <td>1395-12-04</td>\n",
       "      <td>pe__esther_frauendorfferin_StB_I_7</td>\n",
       "      <td>f</td>\n",
       "      <td>gewiesen</td>\n",
       "    </tr>\n",
       "    <tr>\n",
       "      <th>6</th>\n",
       "      <td>7</td>\n",
       "      <td>7</td>\n",
       "      <td>1395-12-04</td>\n",
       "      <td>pe__martha_frauendorfferin_StB_I_7</td>\n",
       "      <td>f</td>\n",
       "      <td>gewiesen</td>\n",
       "    </tr>\n",
       "    <tr>\n",
       "      <th>7</th>\n",
       "      <td>8</td>\n",
       "      <td>7</td>\n",
       "      <td>1395-12-04</td>\n",
       "      <td>pe__jakob_chetner_StB_I_7</td>\n",
       "      <td>m</td>\n",
       "      <td>gewiesen</td>\n",
       "    </tr>\n",
       "    <tr>\n",
       "      <th>8</th>\n",
       "      <td>9</td>\n",
       "      <td>7</td>\n",
       "      <td>1395-12-04</td>\n",
       "      <td>pe__konrad_chetner_StB_I_7</td>\n",
       "      <td>m</td>\n",
       "      <td>gewiesen/other</td>\n",
       "    </tr>\n",
       "    <tr>\n",
       "      <th>9</th>\n",
       "      <td>10</td>\n",
       "      <td>23</td>\n",
       "      <td>1396-01-15</td>\n",
       "      <td>pe__niklas_unger_StB_I_23</td>\n",
       "      <td>m</td>\n",
       "      <td>witness</td>\n",
       "    </tr>\n",
       "    <tr>\n",
       "      <th>10</th>\n",
       "      <td>11</td>\n",
       "      <td>23</td>\n",
       "      <td>1396-01-15</td>\n",
       "      <td>pe__johann_handschuster_StB_I_23</td>\n",
       "      <td>m</td>\n",
       "      <td>witness</td>\n",
       "    </tr>\n",
       "    <tr>\n",
       "      <th>11</th>\n",
       "      <td>12</td>\n",
       "      <td>23</td>\n",
       "      <td>1396-01-15</td>\n",
       "      <td>pe__michael_ungerl_StB_I_23</td>\n",
       "      <td>m</td>\n",
       "      <td>gewiesen</td>\n",
       "    </tr>\n",
       "    <tr>\n",
       "      <th>12</th>\n",
       "      <td>13</td>\n",
       "      <td>23</td>\n",
       "      <td>1396-01-15</td>\n",
       "      <td>pe__elisabeth_ungerlin_StB_I_23</td>\n",
       "      <td>f</td>\n",
       "      <td>gewiesen</td>\n",
       "    </tr>\n",
       "    <tr>\n",
       "      <th>13</th>\n",
       "      <td>14</td>\n",
       "      <td>23</td>\n",
       "      <td>1396-01-15</td>\n",
       "      <td>pe__katharina_ungerlin_StB_I_23</td>\n",
       "      <td>f</td>\n",
       "      <td>gewiesen</td>\n",
       "    </tr>\n",
       "    <tr>\n",
       "      <th>14</th>\n",
       "      <td>15</td>\n",
       "      <td>23</td>\n",
       "      <td>1396-01-15</td>\n",
       "      <td>pe__johann_ungerl_StB_I_23</td>\n",
       "      <td>m</td>\n",
       "      <td>gewiesen</td>\n",
       "    </tr>\n",
       "    <tr>\n",
       "      <th>15</th>\n",
       "      <td>16</td>\n",
       "      <td>23</td>\n",
       "      <td>1396-01-15</td>\n",
       "      <td>pe__anna_ungerlin_StB_I_23</td>\n",
       "      <td>f</td>\n",
       "      <td>gewiesen</td>\n",
       "    </tr>\n",
       "    <tr>\n",
       "      <th>16</th>\n",
       "      <td>17</td>\n",
       "      <td>23</td>\n",
       "      <td>1396-01-15</td>\n",
       "      <td>pe__margarethe_hantschusterin_StB_I_23</td>\n",
       "      <td>f</td>\n",
       "      <td>gewiesen</td>\n",
       "    </tr>\n",
       "    <tr>\n",
       "      <th>17</th>\n",
       "      <td>18</td>\n",
       "      <td>23</td>\n",
       "      <td>1396-01-15</td>\n",
       "      <td>pe__konrad_handschuster_StB_I_23</td>\n",
       "      <td>m</td>\n",
       "      <td>gewiesen/other</td>\n",
       "    </tr>\n",
       "    <tr>\n",
       "      <th>18</th>\n",
       "      <td>19</td>\n",
       "      <td>24</td>\n",
       "      <td>1396-01-18</td>\n",
       "      <td>pe__ulrich_graefenauer_StB_I_24</td>\n",
       "      <td>m</td>\n",
       "      <td>weisend</td>\n",
       "    </tr>\n",
       "    <tr>\n",
       "      <th>19</th>\n",
       "      <td>20</td>\n",
       "      <td>24</td>\n",
       "      <td>1396-01-18</td>\n",
       "      <td>pe__paul_von_chruegsperg_StB_I_24</td>\n",
       "      <td>m</td>\n",
       "      <td>weisend/rep</td>\n",
       "    </tr>\n",
       "  </tbody>\n",
       "</table>\n",
       "</div>"
      ],
      "text/plain": [
       "    ID  nr        date                                 persTag sex  \\\n",
       "0    1   7  1395-12-04        pe__stephan_frauendorfer_StB_I_7   m   \n",
       "1    2   7  1395-12-04            pe__pilgrim_snaeczel_StB_I_7   m   \n",
       "2    3   7  1395-12-04            pe__erasmus_mallczer_StB_I_7   m   \n",
       "3    4   7  1395-12-04        pe__kaspar_frauendorffer_StB_I_7   m   \n",
       "4    5   7  1395-12-04      pe__wolfgang_frauendorffer_StB_I_7   m   \n",
       "5    6   7  1395-12-04      pe__esther_frauendorfferin_StB_I_7   f   \n",
       "6    7   7  1395-12-04      pe__martha_frauendorfferin_StB_I_7   f   \n",
       "7    8   7  1395-12-04               pe__jakob_chetner_StB_I_7   m   \n",
       "8    9   7  1395-12-04              pe__konrad_chetner_StB_I_7   m   \n",
       "9   10  23  1396-01-15               pe__niklas_unger_StB_I_23   m   \n",
       "10  11  23  1396-01-15        pe__johann_handschuster_StB_I_23   m   \n",
       "11  12  23  1396-01-15             pe__michael_ungerl_StB_I_23   m   \n",
       "12  13  23  1396-01-15         pe__elisabeth_ungerlin_StB_I_23   f   \n",
       "13  14  23  1396-01-15         pe__katharina_ungerlin_StB_I_23   f   \n",
       "14  15  23  1396-01-15              pe__johann_ungerl_StB_I_23   m   \n",
       "15  16  23  1396-01-15              pe__anna_ungerlin_StB_I_23   f   \n",
       "16  17  23  1396-01-15  pe__margarethe_hantschusterin_StB_I_23   f   \n",
       "17  18  23  1396-01-15        pe__konrad_handschuster_StB_I_23   m   \n",
       "18  19  24  1396-01-18         pe__ulrich_graefenauer_StB_I_24   m   \n",
       "19  20  24  1396-01-18       pe__paul_von_chruegsperg_StB_I_24   m   \n",
       "\n",
       "           fn_role  \n",
       "0          weisend  \n",
       "1          witness  \n",
       "2          witness  \n",
       "3         gewiesen  \n",
       "4         gewiesen  \n",
       "5         gewiesen  \n",
       "6         gewiesen  \n",
       "7         gewiesen  \n",
       "8   gewiesen/other  \n",
       "9          witness  \n",
       "10         witness  \n",
       "11        gewiesen  \n",
       "12        gewiesen  \n",
       "13        gewiesen  \n",
       "14        gewiesen  \n",
       "15        gewiesen  \n",
       "16        gewiesen  \n",
       "17  gewiesen/other  \n",
       "18         weisend  \n",
       "19     weisend/rep  "
      ]
     },
     "execution_count": 40,
     "metadata": {},
     "output_type": "execute_result"
    }
   ],
   "source": [
    "persons = pd.read_csv('Persons.csv')\n",
    "persons.head(20)"
   ]
  },
  {
   "cell_type": "code",
   "execution_count": 16,
   "id": "375e0cbc-6ebb-4e59-836c-0d5d4dcf180b",
   "metadata": {},
   "outputs": [
    {
     "data": {
      "text/plain": [
       "witness           1639\n",
       "gewiesen          1329\n",
       "weisend            800\n",
       "gewiesen/other     538\n",
       "weisend/other      365\n",
       "weisend/rep         65\n",
       "witness/other        5\n",
       "other                4\n",
       "Name: fn_role, dtype: int64"
      ]
     },
     "execution_count": 16,
     "metadata": {},
     "output_type": "execute_result"
    }
   ],
   "source": [
    "persons['fn_role'].value_counts()"
   ]
  },
  {
   "cell_type": "code",
   "execution_count": 17,
   "id": "6bcdb214-fd68-40e9-bf46-09ee6d5fbfd4",
   "metadata": {},
   "outputs": [
    {
     "name": "stdout",
     "output_type": "stream",
     "text": [
      "<class 'pandas.core.frame.DataFrame'>\n",
      "RangeIndex: 4745 entries, 0 to 4744\n",
      "Data columns (total 6 columns):\n",
      " #   Column   Non-Null Count  Dtype \n",
      "---  ------   --------------  ----- \n",
      " 0   ID       4745 non-null   int64 \n",
      " 1   nr       4745 non-null   int64 \n",
      " 2   date     4745 non-null   object\n",
      " 3   persTag  4745 non-null   object\n",
      " 4   sex      4742 non-null   object\n",
      " 5   fn_role  4745 non-null   object\n",
      "dtypes: int64(2), object(4)\n",
      "memory usage: 222.5+ KB\n"
     ]
    }
   ],
   "source": [
    "persons.info()"
   ]
  },
  {
   "cell_type": "code",
   "execution_count": 41,
   "id": "83b57f12-1742-407b-b782-b4002186a513",
   "metadata": {},
   "outputs": [
    {
     "data": {
      "text/plain": [
       "fn_role\n",
       "gewiesen          1328\n",
       "gewiesen/other     538\n",
       "other                4\n",
       "weisend            798\n",
       "weisend/other      365\n",
       "weisend/rep         65\n",
       "witness           1639\n",
       "witness/other        5\n",
       "Name: sex, dtype: int64"
      ]
     },
     "execution_count": 41,
     "metadata": {},
     "output_type": "execute_result"
    }
   ],
   "source": [
    "grouped_role = persons.groupby('fn_role').sex.count()\n",
    "grouped_role"
   ]
  },
  {
   "cell_type": "code",
   "execution_count": 42,
   "id": "818e91f6-a1b1-4b00-ba84-da9e2b3942d7",
   "metadata": {},
   "outputs": [],
   "source": [
    "grouped_sex = persons.groupby('sex').count()\n",
    "#grouped_sex"
   ]
  },
  {
   "cell_type": "code",
   "execution_count": 35,
   "id": "476b4c5e-19de-45b6-8a50-5b5068ac0eb8",
   "metadata": {},
   "outputs": [
    {
     "data": {
      "text/plain": [
       "<AxesSubplot:xlabel='fn_role'>"
      ]
     },
     "execution_count": 35,
     "metadata": {},
     "output_type": "execute_result"
    },
    {
     "data": {
      "image/png": "[encoded data removed]",
      "text/plain": [
       "<Figure size 576x432 with 1 Axes>"
      ]
     },
     "metadata": {
      "needs_background": "light"
     },
     "output_type": "display_data"
    }
   ],
   "source": [
    "grouped[['sex']].plot(kind='bar', figsize=(8,6))"
   ]
  },
  {
   "cell_type": "code",
   "execution_count": null,
   "id": "52a70a47-f1df-485a-be14-53f74e894995",
   "metadata": {},
   "outputs": [],
   "source": []
  }
 ],
 "metadata": {
  "kernelspec": {
   "display_name": "Python 3 (ipykernel)",
   "language": "python",
   "name": "python3"
  },
  "language_info": {
   "codemirror_mode": {
    "name": "ipython",
    "version": 3
   },
   "file_extension": ".py",
   "mimetype": "text/x-python",
   "name": "python",
   "nbconvert_exporter": "python",
   "pygments_lexer": "ipython3",
   "version": "3.9.12"
  }
 },
 "nbformat": 4,
 "nbformat_minor": 5
}
